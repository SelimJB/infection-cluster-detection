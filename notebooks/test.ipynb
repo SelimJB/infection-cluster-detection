{
 "cells": [
  {
   "cell_type": "code",
   "execution_count": null,
   "id": "dd0c8a5f",
   "metadata": {},
   "outputs": [
    {
     "name": "stdout",
     "output_type": "stream",
     "text": [
      "     test_id patient_id collection_date infection    result\n",
      "0  MWF90KM3T      P0001      2025-04-21       CRE  negative\n",
      "1  MOHSWQ40Z      P0002      2025-04-10       CRE  negative\n",
      "2  M8KK791ZY      P0003      2025-06-04       CRE  negative\n",
      "3  MIDLRYE89      P0004      2025-05-05       CRE  negative\n",
      "4  MUFLSEHUD      P0010      2025-05-01       CRE  negative\n",
      "  transfer_id patient_id ward_in_time ward_out_time          location\n",
      "0   T9V20YAR8      P0001   2025-04-03    2025-04-09            Ward-2\n",
      "1   TSBELRQVS      P0001   2025-04-19    2025-04-23            Ward-7\n",
      "2   T1N3IUZGP      P0002   2025-04-07    2025-04-15  Surgical-Theatre\n",
      "3   TYN9382KK      P0003   2025-05-15    2025-05-20  Surgical-Theatre\n",
      "4   TQTTY5Y2J      P0003   2025-06-01    2025-06-08            Ward-3\n"
     ]
    }
   ],
   "source": [
    "import pandas as pd\n",
    "import sys\n",
    "import os\n",
    "\n",
    "microbiology = pd.read_csv(\"../ressources/microbiology.csv\")\n",
    "transfers = pd.read_csv(\"../ressources/transfers.csv\")\n",
    "\n",
    "micro_data = [{\"filename\": \"test_micro.csv\", \"content\": microbiology.to_csv()}]\n",
    "transfer_data = [\n",
    "    {\"filename\": \"test_transfers.csv\", \"content\": transfers.to_csv()}]\n",
    "\n",
    "print(microbiology.head())\n",
    "print(transfers.head())"
   ]
  },
  {
   "cell_type": "code",
   "execution_count": 10,
   "id": "f62dbfec",
   "metadata": {},
   "outputs": [
    {
     "name": "stdout",
     "output_type": "stream",
     "text": [
      "Available analysis types:\n",
      "  📊 Standard Analysis: \n",
      "  🧪 Mock Analysis: Mock data analysis for testing and development purposes\n",
      "Analysis type: 🧪 Mock Analysis\n",
      "\n",
      "Formatted results:\n",
      "🔬 DATA ANALYSIS RESULTS\n",
      "==================================================\n",
      "📊 Total files processed: 2\n",
      "✅ Successfully analyzed: 2\n",
      "\n",
      "📈 SUMMARY STATISTICS\n",
      "------------------------------\n",
      "Total rows across all files: 1081\n",
      "Average columns per file: 6.0\n",
      "\n",
      "Most common numeric columns:\n",
      "   • Unnamed: 0: appears in 2 file(s)\n",
      "\n",
      "📋 DETAILED FILE ANALYSIS\n",
      "------------------------------\n",
      "\n",
      "📄 File: microbiology_test_micro.csv\n",
      "   Rows: 384, Columns: 6\n",
      "   Column sums:\n",
      "      Unnamed: 0: 73,536.00\n",
      "   Text columns: test_id, patient_id, collection_date, infection, result\n",
      "\n",
      "📄 File: transfers_test_transfers.csv\n",
      "   Rows: 697, Columns: 6\n",
      "   Column sums:\n",
      "      Unnamed: 0: 242,556.00\n",
      "   Text columns: transfer_id, patient_id, ward_in_time, ward_out_time, location\n"
     ]
    }
   ],
   "source": [
    "# TEST WITH MOCK ANALYSIS\n",
    "\n",
    "sys.path.append(os.path.join(os.getcwd(), '..', 'src'))\n",
    "from modules.analysis_orchestrator import AnalysisType\n",
    "from modules import analysis_orchestrator\n",
    "\n",
    "print(\"Available analysis types:\")\n",
    "for analysis_type in AnalysisType:\n",
    "    print(f\"  {analysis_type.display_name}: {analysis_type.description}\")\n",
    "\n",
    "result = analysis_orchestrator.run_analysis_workflow(\n",
    "    micro_data,\n",
    "    transfer_data,\n",
    "    AnalysisType.MOCK\n",
    ")\n",
    "\n",
    "if result['success']:\n",
    "    print(f\"Analysis type: {result['analysis_type'].display_name}\")\n",
    "    print(\"\\nFormatted results:\")\n",
    "    print(result['formatted_results'])"
   ]
  },
  {
   "cell_type": "code",
   "execution_count": 12,
   "id": "25f029da",
   "metadata": {},
   "outputs": [],
   "source": [
    "# TEST WITH STANDARD ANALYSIS\n",
    "result = analysis_orchestrator.run_analysis_workflow(\n",
    "    micro_data,\n",
    "    transfer_data,\n",
    "    AnalysisType.STANDARD\n",
    ")"
   ]
  },
  {
   "cell_type": "code",
   "execution_count": null,
   "id": "9f639d50",
   "metadata": {},
   "outputs": [],
   "source": []
  }
 ],
 "metadata": {
  "kernelspec": {
   "display_name": "venv",
   "language": "python",
   "name": "python3"
  },
  "language_info": {
   "codemirror_mode": {
    "name": "ipython",
    "version": 3
   },
   "file_extension": ".py",
   "mimetype": "text/x-python",
   "name": "python",
   "nbconvert_exporter": "python",
   "pygments_lexer": "ipython3",
   "version": "3.13.3"
  }
 },
 "nbformat": 4,
 "nbformat_minor": 5
}
